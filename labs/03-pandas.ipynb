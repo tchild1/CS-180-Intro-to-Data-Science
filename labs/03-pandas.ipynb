{
  "cells": [
    {
      "cell_type": "markdown",
      "metadata": {
        "id": "IPir_6bCCFnZ"
      },
      "source": [
        "<a href=\"https://colab.research.google.com/github/rhodes-byu/cs180-winter25/blob/main/labs/03-pandas.ipynb\" target=\"_parent\"><img src=\"https://colab.research.google.com/assets/colab-badge.svg\" alt=\"Open In Colab\"/></a><p><b>After clicking the \"Open in Colab\" link, copy the notebook to your own Google Drive before getting started, or it will not save your work</b></p>"
      ]
    },
    {
      "cell_type": "markdown",
      "metadata": {
        "id": "_slaQdUGCB0t"
      },
      "source": [
        "# BYU CS 180 Lab 3: Intro to Pandas"
      ]
    },
    {
      "cell_type": "code",
      "execution_count": 90,
      "metadata": {
        "id": "fGjI7E--SCMm"
      },
      "outputs": [],
      "source": [
        "import pandas as pd\n",
        "import numpy as np\n",
        "import matplotlib.pyplot as plt"
      ]
    },
    {
      "cell_type": "markdown",
      "metadata": {
        "id": "cWl9h-eZRAzK"
      },
      "source": [
        "## Introduction:\n",
        "Welcome to your first pandas lab!\n",
        "\n",
        "Much of this lab has been adapted from this [link](https://acme.byu.edu/0000017c-ccff-da17-a5fd-cdff03a50000/acmefiles-09-pandas1-2021-pdf) pandas introduction lab from the ACME major. Feel free to read through it and use it as you complete this lab.\n",
        "\n",
        "### Lab Objective:\n",
        "\n",
        "The goal of this lab is for you to become more comfortable in Python's pandas library. We'll introduce you to pandas data structures, syntax, and powerful capacity."
      ]
    },
    {
      "cell_type": "markdown",
      "metadata": {
        "id": "KZeucaVmRqnw"
      },
      "source": [
        "### Important Hints\n",
        "Notice that most of the functions we learn about in this lab return new values. In order to save these values, we must store them.\n",
        "\n",
        "For example, `df.drop(columns=['column1'])` will drop the column1 from df, but we must call `df = df.drop(columns=['column1'])` to store the changed dataframe. Alternatively, you can set the `inplace` argument to `True` to save changes to the df without explicite reassignment."
      ]
    },
    {
      "cell_type": "markdown",
      "metadata": {
        "id": "zJfyE75cR4LW"
      },
      "source": [
        "#### Series:\n",
        "The following cell creates a pandas series, which is essentially a list with an index for each entry in the list. The index is generally used as a label for the data."
      ]
    },
    {
      "cell_type": "code",
      "execution_count": 92,
      "metadata": {
        "colab": {
          "base_uri": "https://localhost:8080/"
        },
        "id": "magqKCAfR97q",
        "outputId": "0aeb5d4f-a5c0-47ce-84c8-f898e23a8ce9"
      },
      "outputs": [
        {
          "name": "stdout",
          "output_type": "stream",
          "text": [
            "Mark       80\n",
            "Barbara    96\n",
            "Eleanor    78\n",
            "David      59\n",
            "dtype: int64\n"
          ]
        }
      ],
      "source": [
        "# Run the below cell to create a new Series:\n",
        "math = pd.Series([80,96,78,59],['Mark','Barbara','Eleanor','David'])\n",
        "print(math)"
      ]
    },
    {
      "cell_type": "markdown",
      "metadata": {
        "id": "TixHmeT3SKR5"
      },
      "source": [
        "Notice that each element in the above series 'math' is a number 1-100, and each of these elements are labeled with a name. The dtype (data type) of this series is an int64. Let's say these numbers represent each student's grade in their math class."
      ]
    },
    {
      "cell_type": "markdown",
      "metadata": {
        "id": "tdeecXfuRjA6"
      },
      "source": [
        "## Exercise 1: Pandas Series\n",
        "\n",
        "Create a pandas series of type int64 called 'english' storing our four student's english grades:\n",
        "\n",
        "Mark -> 90\n",
        "\n",
        "Barbara -> 87\n",
        "\n",
        "Eleanor -> 97\n",
        "\n",
        "David -> 65"
      ]
    },
    {
      "cell_type": "code",
      "execution_count": 93,
      "metadata": {
        "id": "hH7YeTWPRios"
      },
      "outputs": [
        {
          "name": "stdout",
          "output_type": "stream",
          "text": [
            "Mark       90\n",
            "Barbara    87\n",
            "Eleanor    97\n",
            "David      65\n",
            "dtype: int64\n"
          ]
        }
      ],
      "source": [
        "# Create a pandas series below:\n",
        "english = pd.Series([90,87,97,65],['Mark','Barbara','Eleanor','David'])\n",
        "print(english)"
      ]
    },
    {
      "cell_type": "markdown",
      "metadata": {
        "id": "coQOymwLSppB"
      },
      "source": [
        "**DataFrame**\n",
        "\n",
        "The next, and most important, data structure in pandas is the DataFrame. A DataFrame is a collection of multiple Series objects, and it is essentially a 2d array/list with each row labeled by an index, and each column labeled as a column.\n",
        "\n",
        "Below we initialize a DataFrame, 'simple_grades', using the 'math' and 'english' Series that we created above."
      ]
    },
    {
      "cell_type": "code",
      "execution_count": 94,
      "metadata": {
        "id": "OMRUvJvfSsrm"
      },
      "outputs": [
        {
          "name": "stdout",
          "output_type": "stream",
          "text": [
            "         Math  English\n",
            "Mark       80       90\n",
            "Barbara    96       87\n",
            "Eleanor    78       97\n",
            "David      59       65\n"
          ]
        }
      ],
      "source": [
        "simple_grades = pd.DataFrame({\"Math\": math, \"English\": english})\n",
        "print(simple_grades)"
      ]
    },
    {
      "cell_type": "markdown",
      "metadata": {
        "id": "g4JeMTcITBBu"
      },
      "source": [
        "Notice that we now have numbers that are labelled twice. Mark's English grade is an 90. Eleanor's Math grade is a 78.\n",
        "\n",
        "We can also initialize a DataFame using a NumPy array, since pandas is built on top of NumPy. We do that below and call it 'grades'."
      ]
    },
    {
      "cell_type": "code",
      "execution_count": 95,
      "metadata": {
        "id": "mqgP1QA5TE4o"
      },
      "outputs": [],
      "source": [
        "data = np.array([[52.0, 73.0], [10.0, 39.0], [35.0, np.nan], [np.nan, 26.0],[np.nan,99.0],[81.0,68.0]])\n",
        "grades = pd.DataFrame(data, columns = ['Math', 'English'], index = ['Barbara','David','Eleanor','Greg','Lauren','Mark'])\n"
      ]
    },
    {
      "cell_type": "code",
      "execution_count": 97,
      "metadata": {
        "id": "LejlXPWRT1Wm"
      },
      "outputs": [
        {
          "name": "stdout",
          "output_type": "stream",
          "text": [
            "Index(['Math', 'English'], dtype='object')\n",
            "Index(['Barbara', 'David', 'Eleanor', 'Greg', 'Lauren', 'Mark'], dtype='object')\n",
            "[[52. 73.]\n",
            " [10. 39.]\n",
            " [35. nan]\n",
            " [nan 26.]\n",
            " [nan 99.]\n",
            " [81. 68.]]\n"
          ]
        }
      ],
      "source": [
        "# look at the column labels of grades\n",
        "print(grades.columns)\n",
        "\n",
        "# look at the index labels of grades\n",
        "print(grades.index)\n",
        "\n",
        "# look at the values (2d array) of grades\n",
        "print(grades.values)"
      ]
    },
    {
      "cell_type": "markdown",
      "metadata": {
        "id": "EZKzdeDXT5S9"
      },
      "source": [
        "## Exercise 2:\n",
        "To access data in a DataFrame, we use the .loc and the .iloc indexers.\n",
        "\n",
        "The .loc index selects rows and columns based on their labels. In the below examples, we are looking at the rows of 'David' and 'Greg', while only viewing the 'Math' column. Notice that a list of indices is used to view multiple rows by name.\n"
      ]
    },
    {
      "cell_type": "code",
      "execution_count": 98,
      "metadata": {
        "id": "dA0tJ_1oUNVv"
      },
      "outputs": [
        {
          "data": {
            "text/plain": [
              "David    10.0\n",
              "Greg      NaN\n",
              "Name: Math, dtype: float64"
            ]
          },
          "execution_count": 98,
          "metadata": {},
          "output_type": "execute_result"
        }
      ],
      "source": [
        "grades.loc[['David','Greg'],'Math']"
      ]
    },
    {
      "cell_type": "markdown",
      "metadata": {
        "id": "3ewyp61yUOy_"
      },
      "source": [
        "The .iloc method selects rows and columns based on their integer position"
      ]
    },
    {
      "cell_type": "code",
      "execution_count": 99,
      "metadata": {
        "id": "ISI8HCQXUSjq"
      },
      "outputs": [
        {
          "data": {
            "text/plain": [
              "David    10.0\n",
              "Greg      NaN\n",
              "Name: Math, dtype: float64"
            ]
          },
          "execution_count": 99,
          "metadata": {},
          "output_type": "execute_result"
        }
      ],
      "source": [
        "grades.iloc[[1,3],0]"
      ]
    },
    {
      "cell_type": "markdown",
      "metadata": {
        "id": "FGjsR_nJVutE"
      },
      "source": [
        "Use `.loc` to print Eleanor and Mark's grades in both English and Math"
      ]
    },
    {
      "cell_type": "code",
      "execution_count": 100,
      "metadata": {
        "id": "bTPN4sENVt97"
      },
      "outputs": [
        {
          "data": {
            "text/html": [
              "<div>\n",
              "<style scoped>\n",
              "    .dataframe tbody tr th:only-of-type {\n",
              "        vertical-align: middle;\n",
              "    }\n",
              "\n",
              "    .dataframe tbody tr th {\n",
              "        vertical-align: top;\n",
              "    }\n",
              "\n",
              "    .dataframe thead th {\n",
              "        text-align: right;\n",
              "    }\n",
              "</style>\n",
              "<table border=\"1\" class=\"dataframe\">\n",
              "  <thead>\n",
              "    <tr style=\"text-align: right;\">\n",
              "      <th></th>\n",
              "      <th>Math</th>\n",
              "      <th>English</th>\n",
              "    </tr>\n",
              "  </thead>\n",
              "  <tbody>\n",
              "    <tr>\n",
              "      <th>Eleanor</th>\n",
              "      <td>35.0</td>\n",
              "      <td>NaN</td>\n",
              "    </tr>\n",
              "    <tr>\n",
              "      <th>Mark</th>\n",
              "      <td>81.0</td>\n",
              "      <td>68.0</td>\n",
              "    </tr>\n",
              "  </tbody>\n",
              "</table>\n",
              "</div>"
            ],
            "text/plain": [
              "         Math  English\n",
              "Eleanor  35.0      NaN\n",
              "Mark     81.0     68.0"
            ]
          },
          "execution_count": 100,
          "metadata": {},
          "output_type": "execute_result"
        }
      ],
      "source": [
        "#Enter the code here to print both Eleanor and Marks Grades\n",
        "grades.loc[['Eleanor', 'Mark'], ['Math', 'English']]"
      ]
    },
    {
      "cell_type": "markdown",
      "metadata": {
        "id": "beRG_4bTVLg2"
      },
      "source": [
        "You can access an entire column of a DataFrame by using simple square brackets and the name of the column."
      ]
    },
    {
      "cell_type": "code",
      "execution_count": 101,
      "metadata": {
        "id": "tIjjh5GEVKu1"
      },
      "outputs": [
        {
          "data": {
            "text/plain": [
              "Barbara    52.0\n",
              "David      10.0\n",
              "Eleanor    35.0\n",
              "Greg        NaN\n",
              "Lauren      NaN\n",
              "Mark       81.0\n",
              "Name: Math, dtype: float64"
            ]
          },
          "execution_count": 101,
          "metadata": {},
          "output_type": "execute_result"
        }
      ],
      "source": [
        "grades['Math']"
      ]
    },
    {
      "cell_type": "markdown",
      "metadata": {
        "id": "jLDBC2SaVTel"
      },
      "source": [
        "Using the same logic, we can also create a new column using either a numpy array, a list, or a single value."
      ]
    },
    {
      "cell_type": "code",
      "execution_count": 102,
      "metadata": {
        "id": "p6rtzhEmVTJO"
      },
      "outputs": [],
      "source": [
        "grades['History'] = np.random.randint(0, 100, 6)\n",
        "grades['History'] = 100"
      ]
    },
    {
      "cell_type": "markdown",
      "metadata": {
        "id": "jpG-hw8cVavh"
      },
      "source": [
        "To view the beginning of a DataFrame, we can use .head(n). This makes it a lot easier to get an idea of what the data look like without printing the entire dataframe (especially when the df is huge!)."
      ]
    },
    {
      "cell_type": "code",
      "execution_count": 103,
      "metadata": {
        "id": "LIkWW7sNVdUH"
      },
      "outputs": [
        {
          "data": {
            "text/html": [
              "<div>\n",
              "<style scoped>\n",
              "    .dataframe tbody tr th:only-of-type {\n",
              "        vertical-align: middle;\n",
              "    }\n",
              "\n",
              "    .dataframe tbody tr th {\n",
              "        vertical-align: top;\n",
              "    }\n",
              "\n",
              "    .dataframe thead th {\n",
              "        text-align: right;\n",
              "    }\n",
              "</style>\n",
              "<table border=\"1\" class=\"dataframe\">\n",
              "  <thead>\n",
              "    <tr style=\"text-align: right;\">\n",
              "      <th></th>\n",
              "      <th>Math</th>\n",
              "      <th>English</th>\n",
              "      <th>History</th>\n",
              "    </tr>\n",
              "  </thead>\n",
              "  <tbody>\n",
              "    <tr>\n",
              "      <th>Barbara</th>\n",
              "      <td>52.0</td>\n",
              "      <td>73.0</td>\n",
              "      <td>100</td>\n",
              "    </tr>\n",
              "    <tr>\n",
              "      <th>David</th>\n",
              "      <td>10.0</td>\n",
              "      <td>39.0</td>\n",
              "      <td>100</td>\n",
              "    </tr>\n",
              "    <tr>\n",
              "      <th>Eleanor</th>\n",
              "      <td>35.0</td>\n",
              "      <td>NaN</td>\n",
              "      <td>100</td>\n",
              "    </tr>\n",
              "  </tbody>\n",
              "</table>\n",
              "</div>"
            ],
            "text/plain": [
              "         Math  English  History\n",
              "Barbara  52.0     73.0      100\n",
              "David    10.0     39.0      100\n",
              "Eleanor  35.0      NaN      100"
            ]
          },
          "execution_count": 103,
          "metadata": {},
          "output_type": "execute_result"
        }
      ],
      "source": [
        "grades.head(3)"
      ]
    },
    {
      "cell_type": "markdown",
      "metadata": {
        "id": "IRol43jLVkSi"
      },
      "source": [
        "You can use .reindex to change the order of either the rows or columns, and .sort_values to sort the DataFrame by a specified column value."
      ]
    },
    {
      "cell_type": "code",
      "execution_count": 104,
      "metadata": {
        "id": "y4abXuEQVfSK"
      },
      "outputs": [
        {
          "data": {
            "text/html": [
              "<div>\n",
              "<style scoped>\n",
              "    .dataframe tbody tr th:only-of-type {\n",
              "        vertical-align: middle;\n",
              "    }\n",
              "\n",
              "    .dataframe tbody tr th {\n",
              "        vertical-align: top;\n",
              "    }\n",
              "\n",
              "    .dataframe thead th {\n",
              "        text-align: right;\n",
              "    }\n",
              "</style>\n",
              "<table border=\"1\" class=\"dataframe\">\n",
              "  <thead>\n",
              "    <tr style=\"text-align: right;\">\n",
              "      <th></th>\n",
              "      <th>Math</th>\n",
              "      <th>English</th>\n",
              "      <th>History</th>\n",
              "    </tr>\n",
              "  </thead>\n",
              "  <tbody>\n",
              "    <tr>\n",
              "      <th>Mark</th>\n",
              "      <td>81.0</td>\n",
              "      <td>68.0</td>\n",
              "      <td>100</td>\n",
              "    </tr>\n",
              "    <tr>\n",
              "      <th>Barbara</th>\n",
              "      <td>52.0</td>\n",
              "      <td>73.0</td>\n",
              "      <td>100</td>\n",
              "    </tr>\n",
              "    <tr>\n",
              "      <th>Eleanor</th>\n",
              "      <td>35.0</td>\n",
              "      <td>NaN</td>\n",
              "      <td>100</td>\n",
              "    </tr>\n",
              "    <tr>\n",
              "      <th>David</th>\n",
              "      <td>10.0</td>\n",
              "      <td>39.0</td>\n",
              "      <td>100</td>\n",
              "    </tr>\n",
              "    <tr>\n",
              "      <th>Greg</th>\n",
              "      <td>NaN</td>\n",
              "      <td>26.0</td>\n",
              "      <td>100</td>\n",
              "    </tr>\n",
              "    <tr>\n",
              "      <th>Lauren</th>\n",
              "      <td>NaN</td>\n",
              "      <td>99.0</td>\n",
              "      <td>100</td>\n",
              "    </tr>\n",
              "  </tbody>\n",
              "</table>\n",
              "</div>"
            ],
            "text/plain": [
              "         Math  English  History\n",
              "Mark     81.0     68.0      100\n",
              "Barbara  52.0     73.0      100\n",
              "Eleanor  35.0      NaN      100\n",
              "David    10.0     39.0      100\n",
              "Greg      NaN     26.0      100\n",
              "Lauren    NaN     99.0      100"
            ]
          },
          "execution_count": 104,
          "metadata": {},
          "output_type": "execute_result"
        }
      ],
      "source": [
        "grades.reindex(columns = ['English', 'Math', 'History'])\n",
        "grades.sort_values('Math', ascending = False)"
      ]
    },
    {
      "cell_type": "markdown",
      "metadata": {
        "id": "FakTfRwBWBDv"
      },
      "source": [
        "You can also drop columns from a dataframe by using df.drop(columns=[])"
      ]
    },
    {
      "cell_type": "code",
      "execution_count": 105,
      "metadata": {
        "id": "QzUm52EPWFO9"
      },
      "outputs": [
        {
          "data": {
            "text/html": [
              "<div>\n",
              "<style scoped>\n",
              "    .dataframe tbody tr th:only-of-type {\n",
              "        vertical-align: middle;\n",
              "    }\n",
              "\n",
              "    .dataframe tbody tr th {\n",
              "        vertical-align: top;\n",
              "    }\n",
              "\n",
              "    .dataframe thead th {\n",
              "        text-align: right;\n",
              "    }\n",
              "</style>\n",
              "<table border=\"1\" class=\"dataframe\">\n",
              "  <thead>\n",
              "    <tr style=\"text-align: right;\">\n",
              "      <th></th>\n",
              "      <th>English</th>\n",
              "      <th>History</th>\n",
              "    </tr>\n",
              "  </thead>\n",
              "  <tbody>\n",
              "    <tr>\n",
              "      <th>Barbara</th>\n",
              "      <td>73.0</td>\n",
              "      <td>100</td>\n",
              "    </tr>\n",
              "    <tr>\n",
              "      <th>David</th>\n",
              "      <td>39.0</td>\n",
              "      <td>100</td>\n",
              "    </tr>\n",
              "    <tr>\n",
              "      <th>Eleanor</th>\n",
              "      <td>NaN</td>\n",
              "      <td>100</td>\n",
              "    </tr>\n",
              "    <tr>\n",
              "      <th>Greg</th>\n",
              "      <td>26.0</td>\n",
              "      <td>100</td>\n",
              "    </tr>\n",
              "    <tr>\n",
              "      <th>Lauren</th>\n",
              "      <td>99.0</td>\n",
              "      <td>100</td>\n",
              "    </tr>\n",
              "    <tr>\n",
              "      <th>Mark</th>\n",
              "      <td>68.0</td>\n",
              "      <td>100</td>\n",
              "    </tr>\n",
              "  </tbody>\n",
              "</table>\n",
              "</div>"
            ],
            "text/plain": [
              "         English  History\n",
              "Barbara     73.0      100\n",
              "David       39.0      100\n",
              "Eleanor      NaN      100\n",
              "Greg        26.0      100\n",
              "Lauren      99.0      100\n",
              "Mark        68.0      100"
            ]
          },
          "execution_count": 105,
          "metadata": {},
          "output_type": "execute_result"
        }
      ],
      "source": [
        "grades.drop(columns = ['Math'])"
      ]
    },
    {
      "cell_type": "markdown",
      "metadata": {
        "id": "dB2YOQN1WO_C"
      },
      "source": [
        "## Exercise 3: Girlfriend Vs. Fortnite\n",
        "The costs.csv downloaded earlier contains an estimate of my costs over the past few semesters.\n",
        "* Read in the costs.csv file\n",
        "* Add a column called 'girlfriend' with all values set to 500\n",
        "* Reindex the columns such that the amount spent on rent is the first column and the other columns stay in the same order\n",
        "* Sort the DataFrame in descending order based on how much I spent on fortnite_skins\n",
        "* Reset all the values in the rent column to 1000"
      ]
    },
    {
      "cell_type": "code",
      "execution_count": 23,
      "metadata": {
        "id": "SdJbrjG-Wmbl"
      },
      "outputs": [
        {
          "name": "stderr",
          "output_type": "stream",
          "text": [
            "  % Total    % Received % Xferd  Average Speed   Time    Time     Time  Current\n",
            "                                 Dload  Upload   Total   Spent    Left  Speed\n",
            "\n",
            "  0     0    0     0    0     0      0      0 --:--:-- --:--:-- --:--:--     0\n",
            "100   125  100   125    0     0    615      0 --:--:-- --:--:-- --:--:--   631\n"
          ]
        }
      ],
      "source": [
        "#Girl Friend Data\n",
        "!curl -o costs.csv https://raw.githubusercontent.com/wingated/cs180_labs/main/costs.csv"
      ]
    },
    {
      "cell_type": "code",
      "execution_count": 112,
      "metadata": {
        "id": "Xx3i9MVhWdeE"
      },
      "outputs": [
        {
          "data": {
            "text/html": [
              "<div>\n",
              "<style scoped>\n",
              "    .dataframe tbody tr th:only-of-type {\n",
              "        vertical-align: middle;\n",
              "    }\n",
              "\n",
              "    .dataframe tbody tr th {\n",
              "        vertical-align: top;\n",
              "    }\n",
              "\n",
              "    .dataframe thead th {\n",
              "        text-align: right;\n",
              "    }\n",
              "</style>\n",
              "<table border=\"1\" class=\"dataframe\">\n",
              "  <thead>\n",
              "    <tr style=\"text-align: right;\">\n",
              "      <th></th>\n",
              "      <th>rent</th>\n",
              "      <th>books</th>\n",
              "      <th>food</th>\n",
              "      <th>fortnite_skins</th>\n",
              "      <th>girlfriend</th>\n",
              "    </tr>\n",
              "  </thead>\n",
              "  <tbody>\n",
              "    <tr>\n",
              "      <th>2</th>\n",
              "      <td>1000</td>\n",
              "      <td>300</td>\n",
              "      <td>775</td>\n",
              "      <td>40</td>\n",
              "      <td>500</td>\n",
              "    </tr>\n",
              "    <tr>\n",
              "      <th>3</th>\n",
              "      <td>1000</td>\n",
              "      <td>312</td>\n",
              "      <td>750</td>\n",
              "      <td>18</td>\n",
              "      <td>500</td>\n",
              "    </tr>\n",
              "    <tr>\n",
              "      <th>4</th>\n",
              "      <td>1000</td>\n",
              "      <td>330</td>\n",
              "      <td>712</td>\n",
              "      <td>16</td>\n",
              "      <td>500</td>\n",
              "    </tr>\n",
              "    <tr>\n",
              "      <th>0</th>\n",
              "      <td>1000</td>\n",
              "      <td>385</td>\n",
              "      <td>800</td>\n",
              "      <td>15</td>\n",
              "      <td>500</td>\n",
              "    </tr>\n",
              "    <tr>\n",
              "      <th>1</th>\n",
              "      <td>1000</td>\n",
              "      <td>280</td>\n",
              "      <td>700</td>\n",
              "      <td>10</td>\n",
              "      <td>500</td>\n",
              "    </tr>\n",
              "  </tbody>\n",
              "</table>\n",
              "</div>"
            ],
            "text/plain": [
              "   rent  books  food  fortnite_skins  girlfriend\n",
              "2  1000    300   775              40         500\n",
              "3  1000    312   750              18         500\n",
              "4  1000    330   712              16         500\n",
              "0  1000    385   800              15         500\n",
              "1  1000    280   700              10         500"
            ]
          },
          "execution_count": 112,
          "metadata": {},
          "output_type": "execute_result"
        }
      ],
      "source": [
        "# Enter the code for the question above here:\n",
        "\n",
        "# Read in the costs.csv file\n",
        "cost_df = pd.read_csv(\"costs.csv\")\n",
        "\n",
        "# Add a column called 'girlfriend' with all values set to 500\n",
        "cost_df['girlfriend'] = 500\n",
        "\n",
        "# Reindex the columns such that the amount spent on rent is the first column and the other columns stay in the same order\n",
        "cost_df = cost_df.reindex(columns=['rent', 'books', 'food', 'fortnite_skins', 'girlfriend'])\n",
        "\n",
        "# Sort the DataFrame in descending order based on how much I spent on fortnite_skins\n",
        "cost_df = cost_df.sort_values('fortnite_skins', ascending = False)\n",
        "\n",
        "# Reset all the values in the rent column to 1000\n",
        "cost_df['rent'] = 1000\n",
        "\n",
        "cost_df.head()"
      ]
    },
    {
      "cell_type": "markdown",
      "metadata": {
        "id": "s7GyXbDOWxW_"
      },
      "source": [
        "## Exercise 4: Means on Columns\n",
        "Calculate the mean cost of each column in the costs DataFrame in the cell below. (Hint: use the DataFrame.mean() function!)"
      ]
    },
    {
      "cell_type": "code",
      "execution_count": 108,
      "metadata": {
        "id": "aQ2fLWq9W5v0"
      },
      "outputs": [
        {
          "data": {
            "text/plain": [
              "rent              1000.000000\n",
              "books              287.833333\n",
              "food               772.833333\n",
              "fortnite_skins      17.333333\n",
              "girlfriend         500.000000\n",
              "dtype: float64"
            ]
          },
          "execution_count": 108,
          "metadata": {},
          "output_type": "execute_result"
        }
      ],
      "source": [
        "#Mean cost of each column\n",
        "cost_df.mean(axis=0)"
      ]
    },
    {
      "cell_type": "markdown",
      "metadata": {
        "id": "staKCHIDW8f5"
      },
      "source": [
        "## Exercise 5: Supplements\n",
        "\n",
        "Now we will return to the grades DataFrame that we created earlier.\n",
        "\n",
        "Dealing with missing data is a difficult topic in data science. The pandas default for missing values is NaN. These can be difficult to deal with because any operation (addition, multiplication, etc) involving an NaN value will always result in an NaN, so finding the mean of a column or adding up all the rows will be meaningless.\n",
        "\n",
        "What do we do with NaN values? The answer is always: it depends, but we should also ask: why do we have missing values? It could be that some people only filled out half the survey, it could be that the data should read 0.0 but it wasn't filled out. It could mean (in our example) that the student isn't enrolled in that class. It could be many reasons, and we should always figure them out first!\n",
        "\n",
        "In pandas we can do a couple things with NaN values.\n",
        "\n",
        "To drop all rows containing NaN values, we can simply call DataFrame.dropna()\n",
        "\n",
        "\n",
        "Or we could fill the NaN values with a specified value, like 0.0:"
      ]
    },
    {
      "cell_type": "code",
      "execution_count": 109,
      "metadata": {
        "id": "6JfHZN_qXRyI"
      },
      "outputs": [
        {
          "data": {
            "text/html": [
              "<div>\n",
              "<style scoped>\n",
              "    .dataframe tbody tr th:only-of-type {\n",
              "        vertical-align: middle;\n",
              "    }\n",
              "\n",
              "    .dataframe tbody tr th {\n",
              "        vertical-align: top;\n",
              "    }\n",
              "\n",
              "    .dataframe thead th {\n",
              "        text-align: right;\n",
              "    }\n",
              "</style>\n",
              "<table border=\"1\" class=\"dataframe\">\n",
              "  <thead>\n",
              "    <tr style=\"text-align: right;\">\n",
              "      <th></th>\n",
              "      <th>Math</th>\n",
              "      <th>English</th>\n",
              "      <th>History</th>\n",
              "    </tr>\n",
              "  </thead>\n",
              "  <tbody>\n",
              "    <tr>\n",
              "      <th>Barbara</th>\n",
              "      <td>52.0</td>\n",
              "      <td>73.0</td>\n",
              "      <td>100</td>\n",
              "    </tr>\n",
              "    <tr>\n",
              "      <th>David</th>\n",
              "      <td>10.0</td>\n",
              "      <td>39.0</td>\n",
              "      <td>100</td>\n",
              "    </tr>\n",
              "    <tr>\n",
              "      <th>Eleanor</th>\n",
              "      <td>35.0</td>\n",
              "      <td>0.0</td>\n",
              "      <td>100</td>\n",
              "    </tr>\n",
              "    <tr>\n",
              "      <th>Greg</th>\n",
              "      <td>0.0</td>\n",
              "      <td>26.0</td>\n",
              "      <td>100</td>\n",
              "    </tr>\n",
              "    <tr>\n",
              "      <th>Lauren</th>\n",
              "      <td>0.0</td>\n",
              "      <td>99.0</td>\n",
              "      <td>100</td>\n",
              "    </tr>\n",
              "    <tr>\n",
              "      <th>Mark</th>\n",
              "      <td>81.0</td>\n",
              "      <td>68.0</td>\n",
              "      <td>100</td>\n",
              "    </tr>\n",
              "  </tbody>\n",
              "</table>\n",
              "</div>"
            ],
            "text/plain": [
              "         Math  English  History\n",
              "Barbara  52.0     73.0      100\n",
              "David    10.0     39.0      100\n",
              "Eleanor  35.0      0.0      100\n",
              "Greg      0.0     26.0      100\n",
              "Lauren    0.0     99.0      100\n",
              "Mark     81.0     68.0      100"
            ]
          },
          "execution_count": 109,
          "metadata": {},
          "output_type": "execute_result"
        }
      ],
      "source": [
        "grades.fillna(0.0)"
      ]
    },
    {
      "cell_type": "markdown",
      "metadata": {
        "id": "Ei5ryprMXdnz"
      },
      "source": [
        "The supplements.csv downloaded below contains vitamin information (in mg) for 20 different supplements I'm considering as I get ready for summer:\n",
        "* Read in the supplements.csv file\n",
        "* Fill all the na values using method='bfill' (HINT: put method='bfill' in the function call! Google it if you're confused)\n",
        "* Sort the DataFrame by my most important vitamin, vitamin b6, in descending order\n",
        "* Use .drop() to create a new df, subset_df, containing all the vitamins in the supplements file except vitamin_d\n",
        "* Create a boxplot of all columns in subset_df (hint - make sure to call plt.show() at the end!!)"
      ]
    },
    {
      "cell_type": "code",
      "execution_count": 58,
      "metadata": {
        "id": "ZeuAC2MQXehH"
      },
      "outputs": [
        {
          "name": "stderr",
          "output_type": "stream",
          "text": [
            "  % Total    % Received % Xferd  Average Speed   Time    Time     Time  Current\n",
            "                                 Dload  Upload   Total   Spent    Left  Speed\n",
            "\n",
            "  0     0    0     0    0     0      0      0 --:--:-- --:--:-- --:--:--     0\n",
            "  0     0    0     0    0     0      0      0 --:--:-- --:--:-- --:--:--     0\n",
            "100   338  100   338    0     0   1567      0 --:--:-- --:--:-- --:--:--  1594\n"
          ]
        }
      ],
      "source": [
        "!curl -o supplements.csv https://raw.githubusercontent.com/porterjenkins/CS180/main/data/supplements.csv"
      ]
    },
    {
      "cell_type": "code",
      "execution_count": 110,
      "metadata": {
        "id": "ANAkE7cmXvCl"
      },
      "outputs": [
        {
          "name": "stderr",
          "output_type": "stream",
          "text": [
            "C:\\Users\\child\\AppData\\Local\\Temp\\ipykernel_30300\\2230491096.py:7: FutureWarning: DataFrame.fillna with 'method' is deprecated and will raise in a future version. Use obj.ffill() or obj.bfill() instead.\n",
            "  supplements_df = supplements_df.fillna(method='bfill')\n",
            "C:\\Users\\child\\AppData\\Local\\Temp\\ipykernel_30300\\2230491096.py:16: MatplotlibDeprecationWarning: The 'labels' parameter of boxplot() has been renamed 'tick_labels' since Matplotlib 3.9; support for the old name will be dropped in 3.11.\n",
            "  plt.boxplot(subset_df.values, labels=subset_df.columns)\n"
          ]
        },
        {
          "data": {
            "image/png": "[encoded data removed]",
            "text/plain": [
              "<Figure size 640x480 with 1 Axes>"
            ]
          },
          "metadata": {},
          "output_type": "display_data"
        }
      ],
      "source": [
        "# Enter your code in here for question #5\n",
        "\n",
        "# Read in the supplements.csv file\n",
        "supplements_df = pd.read_csv(\"supplements.csv\")\n",
        "\n",
        "# Fill all the na values using method='bfill' (HINT: put method='bfill' in the function call! Google it if you're confused)\n",
        "supplements_df = supplements_df.fillna(method='bfill')\n",
        "\n",
        "# Sort the DataFrame by my most important vitamin, vitamin b6, in descending order\n",
        "supplements_df = supplements_df.sort_values('vitamin_b6', ascending = False)\n",
        "\n",
        "# Use .drop() to create a new df, subset_df, containing all the vitamins in the supplements file except vitamin_d\n",
        "subset_df = supplements_df.drop(columns=['vitamin_d'])\n",
        "\n",
        "# Create a boxplot of all columns in subset_df (hint - make sure to call plt.show() at the end!!)\n",
        "plt.boxplot(subset_df.values, labels=subset_df.columns)\n",
        "plt.xlabel(\"Vitamin\")\n",
        "plt.ylabel(\"Amount\")\n",
        "plt.show()\n"
      ]
    },
    {
      "cell_type": "markdown",
      "metadata": {
        "id": "EyNqaFPwX1xa"
      },
      "source": [
        "## Exercise 6\n",
        "Write something that you noticed in the supplements data. Feel free to poke around, plot some more things, and find something interesting!"
      ]
    },
    {
      "cell_type": "code",
      "execution_count": 111,
      "metadata": {
        "id": "ojSLdw_OX5cW"
      },
      "outputs": [
        {
          "data": {
            "text/plain": [
              "Text(0.5, 1.0, 'Total Value of Each Vitamin')"
            ]
          },
          "execution_count": 111,
          "metadata": {},
          "output_type": "execute_result"
        },
        {
          "data": {
            "image/png": "[encoded data removed]",
            "text/plain": [
              "<Figure size 640x480 with 1 Axes>"
            ]
          },
          "metadata": {},
          "output_type": "display_data"
        }
      ],
      "source": [
        "# Exploratory Data Analysis\n",
        "supplement_totals = supplements_df.sum(axis=0)\n",
        "\n",
        "plt.bar(supplement_totals.index, supplement_totals.values)\n",
        "plt.xlabel('Amount')\n",
        "plt.ylabel('Vitamin')\n",
        "plt.title(\"Total Value of Each Vitamin\")"
      ]
    },
    {
      "cell_type": "markdown",
      "metadata": {
        "id": "bC9o61ZdX9cZ"
      },
      "source": [
        "Enter something cool that you found out here.  \n",
        "\n",
        "**Something I Noticed:**  \n",
        "While I was working with the supplement data, I realized that there are very few outliers. By that, I mean, if you look at the box plot above, there are only 2 points in the vitamin_c box labeled as outliers. You can tell this from the plot because they are marked as a small circle. This is just something I noticed as I worked with this dataset.  \n",
        "\n",
        "**Cool Thing:**  \n",
        "Working with Pandas dataframes, I thought that it was really cool how simple it was to make operations accross the entire dataset. Also, it was really convenient being able to read in the .csv file and have it immediately as a dataframe for future processing.  \n",
        "\n",
        "For my further exploration, I summed the total amount of each vitamin and plotted it on a bar chart. This was interesting because it showed that there is a lot more vitamin_d than any other vitamin. Further, this also showed that there was very little vitamin_b6."
      ]
    }
  ],
  "metadata": {
    "colab": {
      "provenance": []
    },
    "kernelspec": {
      "display_name": "Python 3",
      "language": "python",
      "name": "python3"
    },
    "language_info": {
      "codemirror_mode": {
        "name": "ipython",
        "version": 3
      },
      "file_extension": ".py",
      "mimetype": "text/x-python",
      "name": "python",
      "nbconvert_exporter": "python",
      "pygments_lexer": "ipython3",
      "version": "3.12.6"
    }
  },
  "nbformat": 4,
  "nbformat_minor": 0
}
